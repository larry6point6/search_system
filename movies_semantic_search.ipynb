{
 "cells": [
  {
   "cell_type": "code",
   "execution_count": 15,
   "metadata": {},
   "outputs": [],
   "source": [
    "import pandas as pd\n",
    "import numpy as np\n",
    "import time\n",
    "from sentence_transformers import SentenceTransformer\n",
    "\n",
    "import faiss"
   ]
  },
  {
   "cell_type": "code",
   "execution_count": 2,
   "metadata": {},
   "outputs": [],
   "source": [
    "# df = pd.read_csv('wiki_movie_plots_deduped.csv')"
   ]
  },
  {
   "cell_type": "code",
   "execution_count": null,
   "metadata": {},
   "outputs": [],
   "source": [
    "# df = df.sample(n=10_000) \n",
    "# Taken the sample for "
   ]
  },
  {
   "cell_type": "markdown",
   "metadata": {},
   "source": [
    "Create the embeddings below"
   ]
  },
  {
   "cell_type": "code",
   "execution_count": null,
   "metadata": {},
   "outputs": [],
   "source": [
    "# encoded_data = model.encode(df.Plot.tolist())\n",
    "# encoded_data = np.asarray(encoded_data.astype('float32'))\n",
    "# index = faiss.IndexIDMap(faiss.IndexFlatIP(768))\n",
    "# index.add_with_ids(encoded_data, np.array(range(0, len(df))))\n",
    "# faiss.write_index(index, 'movie_plot.index')"
   ]
  },
  {
   "cell_type": "code",
   "execution_count": 8,
   "metadata": {},
   "outputs": [
    {
     "name": "stderr",
     "output_type": "stream",
     "text": [
      "Downloading: 100%|██████████| 690/690 [00:00<00:00, 171kB/s]\n",
      "Downloading: 100%|██████████| 190/190 [00:00<00:00, 208kB/s]\n",
      "Downloading: 100%|██████████| 115/115 [00:00<00:00, 35.0kB/s]\n",
      "Downloading: 100%|██████████| 2.36M/2.36M [00:00<00:00, 7.30MB/s]\n",
      "Downloading: 100%|██████████| 2.35k/2.35k [00:00<00:00, 453kB/s]\n",
      "Downloading: 100%|██████████| 554/554 [00:00<00:00, 167kB/s]\n",
      "Downloading: 100%|██████████| 122/122 [00:00<00:00, 15.5kB/s]\n",
      "Downloading: 100%|██████████| 341/341 [00:00<00:00, 59.4kB/s]\n",
      "Downloading: 100%|██████████| 265M/265M [00:36<00:00, 7.20MB/s] \n",
      "Downloading: 100%|██████████| 53.0/53.0 [00:00<00:00, 13.3kB/s]\n",
      "Downloading: 100%|██████████| 112/112 [00:00<00:00, 16.9kB/s]\n",
      "Downloading: 100%|██████████| 466k/466k [00:00<00:00, 929kB/s] \n",
      "Downloading: 100%|██████████| 376/376 [00:00<00:00, 86.1kB/s]\n",
      "Downloading: 100%|██████████| 232k/232k [00:00<00:00, 684kB/s] \n"
     ]
    }
   ],
   "source": [
    "index = faiss.read_index('movie_plot.index')\n",
    "model = SentenceTransformer('msmarco-distilbert-base-dot-prod-v3')\n"
   ]
  },
  {
   "cell_type": "code",
   "execution_count": 13,
   "metadata": {},
   "outputs": [],
   "source": [
    "def fetch_movie_info(dataframe_idx):\n",
    "    info = df.iloc[dataframe_idx]\n",
    "    meta_dict = dict()\n",
    "    meta_dict['Title'] = info['Title']\n",
    "    meta_dict['Plot'] = info['Plot'][:500]\n",
    "    return meta_dict\n",
    "    \n",
    "def search(query, top_k, index, model):\n",
    "    tic=time.time()\n",
    "    query_vector = model.encode([query])\n",
    "    top_k = index.search(query_vector, top_k)\n",
    "    print(f'>>>> Results in Total Time: {time.time()-tic}')\n",
    "    top_k_ids = top_k[1].tolist()[0]\n",
    "    top_k_ids = list(np.unique(top_k_ids))\n",
    "    results =  [fetch_movie_info(idx) for idx in top_k_ids]\n",
    "    return results"
   ]
  },
  {
   "cell_type": "code",
   "execution_count": 16,
   "metadata": {},
   "outputs": [
    {
     "name": "stdout",
     "output_type": "stream",
     "text": [
      ">>>> Results in Total Time: 0.10874128341674805\n",
      "\n",
      "\n",
      "\t {'Title': \"Isn't It Romantic?\", 'Plot': \"Major Euclid Cameron, an officer of the Confederate Army during the Civil War, writes his memoirs about the hardships of battle right after the war. It is set in Indiana, 1910, and the Major's finances are not in order. Cameron's daughters, Candy, Susie, and Rose, urge him to get a job so they can pay the family's debts. The strongheaded Major refuses, taking pride in the fact that no Cameron has ever had a decent job. He talks himself out of a job offer from a banker in town, Clarissa Thayer, a\"}\n",
      "\t {'Title': 'Bride of the Gorilla', 'Plot': \"Deep in the South American jungles, plantation manager Barney Chavez (Burr) kills his elderly employer in order to get to his beautiful wife Dina Van Gelder (Payton). However, old native witch Al-Long (Gisela Werbisek) witnesses the crime and puts a curse on Barney, who soon after finds himself turning nightly into a rampaging gorilla. When a wise but superstitious police commissioner Taro (Chaney) is brought in to investigate the plantation owner's death and a rash of strange animal killings, h\"}\n",
      "\t {'Title': 'Ruby Gentry', 'Plot': \"Ruby Corey (Jennifer Jones), a poor backwoods girl living in the small North Carolina town of Braddock, is still in love with Boake Tackman (Charlton Heston). During high school, Ruby had rebuffed his aggressive advances, and was taken in for a couple of years by a kind wealthy businessman and his wife, who protected her and taught her the skills a lady would need. She moved back home when her father needed her help. Boake's family used to be wealthy, but after generations of profligacy all he h\"}\n",
      "\t {'Title': 'Childish Things', 'Plot': 'An alcoholic former serviceman falls in with gangsters, then has a spiritual awakening.'}\n",
      "\t {'Title': 'Death Hunt', 'Plot': \"In the Yukon Territory in 1931, Albert Johnson (Charles Bronson), a solitary American trapper, comes across an organized dog fight. A white German Shepherd is badly injured and Johnson forcibly takes it, paying $200 to its owner, a vicious trapper named Hazel (Ed Lauter).\\r\\nAggrieved by his treatment and claiming the dog was stolen from him, Hazel leads several of his friends to Johnson's isolated cabin. Some begin shooting while others create a diversion. After the shooting of Sitka, the dog tha\"}\n"
     ]
    }
   ],
   "source": [
    "query=\"Artificial Intelligence based action movie\"\n",
    "results=search(query, top_k=5, index=index, model=model)\n",
    "print(\"\\n\")\n",
    "for result in results:\n",
    "    print('\\t',result)"
   ]
  },
  {
   "cell_type": "code",
   "execution_count": null,
   "metadata": {},
   "outputs": [],
   "source": []
  }
 ],
 "metadata": {
  "interpreter": {
   "hash": "949777d72b0d2535278d3dc13498b2535136f6dfe0678499012e853ee9abcab1"
  },
  "kernelspec": {
   "display_name": "Python 3.10.4 64-bit",
   "language": "python",
   "name": "python3"
  },
  "language_info": {
   "codemirror_mode": {
    "name": "ipython",
    "version": 3
   },
   "file_extension": ".py",
   "mimetype": "text/x-python",
   "name": "python",
   "nbconvert_exporter": "python",
   "pygments_lexer": "ipython3",
   "version": "3.10.4"
  },
  "orig_nbformat": 4
 },
 "nbformat": 4,
 "nbformat_minor": 2
}
